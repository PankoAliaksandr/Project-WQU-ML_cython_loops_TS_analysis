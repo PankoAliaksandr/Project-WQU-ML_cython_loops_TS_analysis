{
 "cells": [
  {
   "cell_type": "markdown",
   "metadata": {},
   "source": [
    "# WQ_ML_GROUP_3 - G\n",
    "\n",
    "## Submission 1: Data Preparation\n",
    "\n",
    "Group Member:\n",
    "\n",
    "1. Ugochukwu Nnalue\n",
    "2. Aliaksandr Panko\n",
    "3. Ntui Gideon Ateke\n",
    "4. Oliseamaka Olise\n",
    "5. Olawale Dosunmu\n",
    "\n",
    "\n",
    "# Data Analysis\n",
    "\n",
    "The following data analysis is performed on a series of E-mini S&P 500 futures tick data:\n",
    "\n",
    "1. Form tick, volume, and dollar bars\n",
    "2. Count the number of bars produced by tick, volume, and dollar bars on a weekly basis. Plot a time seiries of that bar count. What bar type produces the most stable weekly count? Why?\n",
    "3. Compute serieal correlation of returns for the three bar types. What bar method has the lowest serial correlation?\n",
    "4. Apply the Jarque-Bera normality test on returns from the three bar types. What method achieves the lowest test statistic?\n",
    "5. Standardize & Plot the Distributions"
   ]
  },
  {
   "cell_type": "markdown",
   "metadata": {},
   "source": [
    "# Task 1. Bars raw data generation\n",
    "\n",
    "To generate the data we installed a virtual machine with Ubuntu. Secondly, we downloaded the files the GitHub [repository](https://github.com/Jackal08/financial-data-structures) (link was provided in a task description). From the repo we used next files:\n",
    "1. ES_Trades.csv - a file with raw data\n",
    "2. main.py  - python code\n",
    "3. ReadMe.md\n",
    "4. requirements_pip.txt\n",
    "5. setup.py\n",
    "6. cython_loops.pyx\n",
    "\n",
    "In Ubuntu Terminal we executed next steps: \n",
    "\n",
    "1. Go to the directory where you have saved the file, example: cd Desktop/bars/awesome/\n",
    "2. pip install -r pip_requirements.txt\n",
    "3. python setup.py  build_ext --inplace \n",
    "4. python main.py\n",
    "\n",
    "This sequence of steps runs the main.py file, which contains next functions:\n",
    "1. pre_process(data) - Creates an date time objects\n",
    "2. extract_data(data)  \n",
    "3. time_bars(data, units) \n",
    "4. dollar_bars(data, units)\n",
    "5. volume_bars(data, units)\n",
    "6. tick_bars(data, units)\n",
    "7. create_bars(data, units=1000, type='tick') - Creates the desired bars based on previous functions of data preprocessing\n",
    "8. The body: reads raw tick data => creates bars => writes bars data to .csv files"
   ]
  },
  {
   "cell_type": "code",
   "execution_count": null,
   "metadata": {},
   "outputs": [],
   "source": [
    "import cython_loops\n",
    "%matplotlib inline"
   ]
  },
  {
   "cell_type": "code",
   "execution_count": null,
   "metadata": {},
   "outputs": [],
   "source": [
    "# main.py  - should be run from ubuntu terminal after running a setup file\n",
    "\n",
    "import seaborn as sns\n",
    "from statsmodels.graphics.tsaplots import plot_acf\n",
    "import matplotlib.pyplot as plt\n",
    "import numpy as np\n",
    "import pandas as pd\n",
    "from math import ceil\n",
    "import cython_loops\n",
    "\n",
    "# Functions\n",
    "def __pre_process(data):\n",
    "    # Create an date time\n",
    "    data['Date_Time'] = data['Date'] + ' ' + data['Time']\n",
    "    data = data.drop(['Date', 'Time'], axis=1)\n",
    "\n",
    "    # Calculate the transaction value\n",
    "    data['Transaction'] = data['Price'] * data['Volume']\n",
    "\n",
    "    return data\n",
    "\n",
    "\n",
    "def __extract_data(data):\n",
    "    # Extract data\n",
    "    date_time = data[['Date_Time', 'Group']].groupby('Group')['Date_Time'].last()\n",
    "    ohlc = data[['Price', 'Group']].astype(float).groupby('Group')['Price'].ohlc()\n",
    "    volume = data[['Volume', 'Group']].astype(float).groupby('Group').sum()\n",
    "    vwap = pd.DataFrame(data[['Transaction', 'Group']].astype(float).groupby('Group').sum().values / volume.values)\n",
    "\n",
    "    # Create DataFrame\n",
    "    bars = pd.concat([date_time, ohlc, volume, vwap], axis=1)\n",
    "    bars.columns = ['date', 'open', 'high', 'low', 'close', 'volume', 'vwap']\n",
    "\n",
    "    return bars\n",
    "\n",
    "\n",
    "def __time_bars(data, units):\n",
    "    # Set the time frame\n",
    "    duration = str(units) + 'T'\n",
    "\n",
    "    # Extract data\n",
    "    data.index = pd.to_datetime(data['Date_Time'])\n",
    "    ohlc = data.resample(duration, label='right')['Price'].ohlc()\n",
    "    date_time = pd.DataFrame(ohlc.index, index=ohlc.index)\n",
    "    volume = data.resample(duration, label='right')['Volume'].sum()\n",
    "    vwap = data.resample(duration, label='right')['Transaction'].sum().values / volume\n",
    "\n",
    "    # Create DataFrame\n",
    "    data = pd.concat([date_time, ohlc, volume, vwap], axis=1)\n",
    "    data.columns = ['date', 'open', 'high', 'low', 'close', 'volume', 'vwap']\n",
    "\n",
    "    return data\n",
    "\n",
    "\n",
    "def __dollar_bars(data, units):\n",
    "    # Dollar metric\n",
    "    data['CumDollars'] = data['Transaction'].cumsum()\n",
    "    col_names = data.columns\n",
    "\n",
    "    # Set the relevant group for each row\n",
    "    data = cython_loops.set_row_groups(units, np.array(data))\n",
    "    data = pd.DataFrame(data, columns=col_names)\n",
    "    data = __extract_data(data)\n",
    "\n",
    "    return data\n",
    "\n",
    "\n",
    "def __volume_bars(data, units):\n",
    "    # Volume metric\n",
    "    data['CumVol'] = data['Volume'].cumsum()\n",
    "    col_names = data.columns\n",
    "\n",
    "    # Set the relevant group for each row\n",
    "    data = cython_loops.set_row_groups(units, np.array(data))\n",
    "    data = pd.DataFrame(data, columns=col_names)\n",
    "    data = __extract_data(data)\n",
    "\n",
    "    # Todo: Add 1/50 of the daily traded volume\n",
    "    return data\n",
    "\n",
    "\n",
    "def __tick_bars(data, units):\n",
    "    # Create groups based on number of tick bars\n",
    "    group_index = data.index % units == 0\n",
    "    group_size = ceil(data.shape[0] / float(units))\n",
    "    groups = np.array(range(0, int(group_size)))\n",
    "\n",
    "    # Fill in group values\n",
    "    data.loc[group_index, 'Group'] = groups\n",
    "    data['Group'] = data['Group'].ffill()\n",
    "    data = __extract_data(data)\n",
    "\n",
    "    return data\n",
    "\n",
    "\n",
    "def create_bars(data, units=1000, type='tick'):\n",
    "    \"\"\"\n",
    "    Creates the desired bars. 4 different types:\n",
    "    1. Time Bars\n",
    "    2. Tick Bars\n",
    "    3. Volume Bars\n",
    "    4. Dollar Bars\n",
    "\n",
    "    See book for more info:\n",
    "    Marcos Prado (2018), Advances in Financial Machine Learning, pg 25\n",
    "\n",
    "    :param data: Pandas DataFrame of Tick Data from TickData.com\n",
    "    :param units: Number of units in a bar.\n",
    "                  Time Bars: Number of minutes per bar\n",
    "                  Tick Bars: Number of ticks per bar\n",
    "                  Volume Bars: Number of shares traded per bar\n",
    "                  Dollar Bars: Transaction size traded per bar\n",
    "\n",
    "    :param type: String of the bar type, ('tick', 'volume', 'dollar', 'time')\n",
    "    :return: Pandas DataFrame of relevant bar data\n",
    "    \"\"\"\n",
    "    data = __pre_process(data)\n",
    "\n",
    "    # Create an empty column\n",
    "    data['Group'] = np.nan\n",
    "\n",
    "    print('Creating {type} bars'.format(type=type))\n",
    "    if type == 'tick':\n",
    "        bars = __tick_bars(data, units)\n",
    "    elif type == 'volume':\n",
    "        bars = __volume_bars(data, units)\n",
    "    elif type == 'dollar':\n",
    "        bars = __dollar_bars(data, units)\n",
    "    elif type == 'time':\n",
    "        bars = __time_bars(data, units)\n",
    "    else:\n",
    "        raise ValueError('Type must be: tick, volume, dollar, or time')\n",
    "\n",
    "    return bars\n",
    "\n",
    "\n",
    "# ------------------------\n",
    "# Body\n",
    "if __name__ == '__main__':\n",
    "    # Read in tick data:\n",
    "    # https://s3-us-west-2.amazonaws.com/tick-data-s3/downloads/ES_Sample.zip\n",
    "    data = pd.read_csv('raw_tick_data/ES_Trades.csv')\n",
    "\n",
    "    # Create bars\n",
    "    #time_bars = create_bars(data, units=600, type='time')  \n",
    "    tick_bars = create_bars(data, units=5000, type='tick')\n",
    "    volume_bars = create_bars(data, units=21731, type='volume')\n",
    "    dollar_bars = create_bars(data, units=35638840, type='dollar')\n",
    "\n",
    "    # Write to csv\n",
    "    #time_bars.to_csv('saved_data/time_bars.csv', index=False)\n",
    "    tick_bars.to_csv('saved_data/tick_bars.csv', index=False)\n",
    "    volume_bars.to_csv('saved_data/volume_bars.csv', index=False)\n",
    "    dollar_bars.to_csv('saved_data/dollar_bars.csv', index=False)"
   ]
  },
  {
   "cell_type": "markdown",
   "metadata": {},
   "source": [
    "# Step 2: Count the number of bars during  a week\n",
    "After the first step we have data for 3 bars:\n",
    "1. TimeStamp of a bar creation\n",
    "2. Open price\n",
    "3. High price\n",
    "4. Low price\n",
    "5. Close price\n",
    "6. Volume \n",
    "\n",
    "Using this data we can count how many bars are created during a week."
   ]
  },
  {
   "cell_type": "code",
   "execution_count": 11,
   "metadata": {},
   "outputs": [
    {
     "data": {
      "text/html": [
       "<div>\n",
       "<style scoped>\n",
       "    .dataframe tbody tr th:only-of-type {\n",
       "        vertical-align: middle;\n",
       "    }\n",
       "\n",
       "    .dataframe tbody tr th {\n",
       "        vertical-align: top;\n",
       "    }\n",
       "\n",
       "    .dataframe thead th {\n",
       "        text-align: right;\n",
       "    }\n",
       "</style>\n",
       "<table border=\"1\" class=\"dataframe\">\n",
       "  <thead>\n",
       "    <tr style=\"text-align: right;\">\n",
       "      <th></th>\n",
       "      <th>open</th>\n",
       "      <th>high</th>\n",
       "      <th>low</th>\n",
       "      <th>close</th>\n",
       "      <th>volume</th>\n",
       "      <th>vwap</th>\n",
       "    </tr>\n",
       "    <tr>\n",
       "      <th>date</th>\n",
       "      <th></th>\n",
       "      <th></th>\n",
       "      <th></th>\n",
       "      <th></th>\n",
       "      <th></th>\n",
       "      <th></th>\n",
       "    </tr>\n",
       "  </thead>\n",
       "  <tbody>\n",
       "    <tr>\n",
       "      <th>2013-09-01 18:18:58.662</th>\n",
       "      <td>1640.25</td>\n",
       "      <td>1642.00</td>\n",
       "      <td>1639.00</td>\n",
       "      <td>1641.25</td>\n",
       "      <td>21722.0</td>\n",
       "      <td>1640.667273</td>\n",
       "    </tr>\n",
       "    <tr>\n",
       "      <th>2013-09-01 21:42:07.388</th>\n",
       "      <td>1641.25</td>\n",
       "      <td>1643.50</td>\n",
       "      <td>1639.75</td>\n",
       "      <td>1640.75</td>\n",
       "      <td>21706.0</td>\n",
       "      <td>1641.830116</td>\n",
       "    </tr>\n",
       "    <tr>\n",
       "      <th>2013-09-02 02:05:25.233</th>\n",
       "      <td>1640.75</td>\n",
       "      <td>1644.50</td>\n",
       "      <td>1640.50</td>\n",
       "      <td>1644.50</td>\n",
       "      <td>21652.0</td>\n",
       "      <td>1643.149905</td>\n",
       "    </tr>\n",
       "    <tr>\n",
       "      <th>2013-09-02 03:01:56.174</th>\n",
       "      <td>1644.50</td>\n",
       "      <td>1646.00</td>\n",
       "      <td>1642.75</td>\n",
       "      <td>1645.00</td>\n",
       "      <td>21709.0</td>\n",
       "      <td>1644.556854</td>\n",
       "    </tr>\n",
       "    <tr>\n",
       "      <th>2013-09-02 04:32:44.340</th>\n",
       "      <td>1645.00</td>\n",
       "      <td>1647.25</td>\n",
       "      <td>1644.25</td>\n",
       "      <td>1645.50</td>\n",
       "      <td>21646.0</td>\n",
       "      <td>1646.012254</td>\n",
       "    </tr>\n",
       "  </tbody>\n",
       "</table>\n",
       "</div>"
      ],
      "text/plain": [
       "                            open     high      low    close   volume  \\\n",
       "date                                                                   \n",
       "2013-09-01 18:18:58.662  1640.25  1642.00  1639.00  1641.25  21722.0   \n",
       "2013-09-01 21:42:07.388  1641.25  1643.50  1639.75  1640.75  21706.0   \n",
       "2013-09-02 02:05:25.233  1640.75  1644.50  1640.50  1644.50  21652.0   \n",
       "2013-09-02 03:01:56.174  1644.50  1646.00  1642.75  1645.00  21709.0   \n",
       "2013-09-02 04:32:44.340  1645.00  1647.25  1644.25  1645.50  21646.0   \n",
       "\n",
       "                                vwap  \n",
       "date                                  \n",
       "2013-09-01 18:18:58.662  1640.667273  \n",
       "2013-09-01 21:42:07.388  1641.830116  \n",
       "2013-09-02 02:05:25.233  1643.149905  \n",
       "2013-09-02 03:01:56.174  1644.556854  \n",
       "2013-09-02 04:32:44.340  1646.012254  "
      ]
     },
     "execution_count": 11,
     "metadata": {},
     "output_type": "execute_result"
    }
   ],
   "source": [
    "# import Data & Convert Index to DateTime\n",
    "\n",
    "# here you need to use a path to the folder with 4 .csv files with bars data, generated in main.py\n",
    "path = 'D:/'  \n",
    "\n",
    "#time_bars = pd.read_csv(path + 'time_bars.csv', index_col='date')\n",
    "tick_bars = pd.read_csv(path + 'tick_bars.csv', index_col='date')\n",
    "volume_bars = pd.read_csv(path + 'volume_bars.csv', index_col='date')\n",
    "dollar_bars = pd.read_csv(path + 'dollar_bars.csv', index_col='date')\n",
    "\n",
    "#time_bars.index = pd.to_datetime(time_bars.index)\n",
    "tick_bars.index = pd.to_datetime(tick_bars.index)\n",
    "volume_bars.index = pd.to_datetime(volume_bars.index)\n",
    "dollar_bars.index = pd.to_datetime(dollar_bars.index)\n",
    "\n",
    "# Let's have a look at dollar bars data frame:\n",
    "dollar_bars.head()"
   ]
  },
  {
   "cell_type": "markdown",
   "metadata": {},
   "source": [
    "# Step 3 Plot the time series of the bar count "
   ]
  },
  {
   "cell_type": "code",
   "execution_count": 16,
   "metadata": {},
   "outputs": [],
   "source": [
    "#time_count = time_bars['close'].resample('W', label='right').count()\n",
    "tick_count = tick_bars['close'].resample('W', label='right').count()\n",
    "volume_count = volume_bars['close'].resample('W', label='right').count()\n",
    "dollar_count = dollar_bars['close'].resample('W', label='right').count()\n",
    "\n",
    "count_df = pd.concat([ tick_count, volume_count, dollar_count], axis=1) # time_count is not used in our pro\n",
    "count_df.columns = ['tick', 'volume', 'dollar'] #'time', "
   ]
  },
  {
   "cell_type": "code",
   "execution_count": 17,
   "metadata": {},
   "outputs": [
    {
     "data": {
      "image/png": "[encoded data removed]",
      "text/plain": [
       "<Figure size 720x360 with 1 Axes>"
      ]
     },
     "metadata": {
      "needs_background": "light"
     },
     "output_type": "display_data"
    }
   ],
   "source": [
    "# Plot\n",
    "count_df.plot(kind='bar', figsize=[10, 5], color=('darkblue', 'green', 'darkcyan')) # 'darkred' - for time\n",
    "plt.title('Number of bars over time', loc='center', fontsize=20, fontweight=\"bold\", fontname=\"Times New Roman\")\n",
    "plt.show()"
   ]
  },
  {
   "cell_type": "markdown",
   "metadata": {},
   "source": [
    "## Review\n",
    "Since we analize the data in weekly basis, having only 20 days, it is obvious that only 4 observations (basicaly 3, the first one is clearly not valid) it is not enough to make any reasonable conclution.\n",
    "\n",
    "However we came up with a good suggestion that volume bars should be more stable than dollars one. This can be explained from the assumption that stock prices normaly rise (considering long run). Since, by construction, the dollar threshold is constant, there must be a tendency for dollar bars frequency gets higher with time. Volume in our opinion should be more stable. \n",
    "\n",
    "For tick and volume it's difficult to say, which one is more stable (should be both more or less ok, but we need more data to prove or disprove it)"
   ]
  },
  {
   "cell_type": "markdown",
   "metadata": {},
   "source": [
    "# Step 4 Serieal correlation"
   ]
  },
  {
   "cell_type": "code",
   "execution_count": 18,
   "metadata": {},
   "outputs": [],
   "source": [
    "# time_returns = np.log(time_bars['close']).diff().dropna()\n",
    "tick_returns = np.log(tick_bars['close']).diff().dropna()\n",
    "volume_returns = np.log(volume_bars['close']).diff().dropna()\n",
    "dollar_returns = np.log(dollar_bars['close']).diff().dropna()"
   ]
  },
  {
   "cell_type": "code",
   "execution_count": 20,
   "metadata": {},
   "outputs": [
    {
     "data": {
      "image/png": "[encoded data removed]",
      "text/plain": [
       "<Figure size 432x288 with 1 Axes>"
      ]
     },
     "metadata": {
      "needs_background": "light"
     },
     "output_type": "display_data"
    }
   ],
   "source": [
    "plot_acf(tick_returns, lags=10)\n",
    "plt.title('Tick Bars AutoCorrelation')\n",
    "plt.show()"
   ]
  },
  {
   "cell_type": "code",
   "execution_count": 21,
   "metadata": {},
   "outputs": [
    {
     "data": {
      "image/png": "[encoded data removed]",
      "text/plain": [
       "<Figure size 432x288 with 1 Axes>"
      ]
     },
     "metadata": {
      "needs_background": "light"
     },
     "output_type": "display_data"
    }
   ],
   "source": [
    "plot_acf(volume_returns, lags=10)\n",
    "plt.title('Volume Bars AutoCorrelation')\n",
    "plt.show()"
   ]
  },
  {
   "cell_type": "code",
   "execution_count": 22,
   "metadata": {
    "scrolled": false
   },
   "outputs": [
    {
     "data": {
      "image/png": "[encoded data removed]",
      "text/plain": [
       "<Figure size 432x288 with 1 Axes>"
      ]
     },
     "metadata": {
      "needs_background": "light"
     },
     "output_type": "display_data"
    }
   ],
   "source": [
    "plot_acf(dollar_returns, lags=10)\n",
    "plt.title('Dollar Bars AutoCorrelation')\n",
    "plt.show()"
   ]
  },
  {
   "cell_type": "code",
   "execution_count": 26,
   "metadata": {},
   "outputs": [
    {
     "name": "stdout",
     "output_type": "stream",
     "text": [
      "Ticks: [ 1.         -0.00276167  0.02630948  0.03284656 -0.02103088  0.02576505\n",
      " -0.02387176  0.04601623  0.00682906 -0.02289795 -0.00601301]\n",
      "Volumes: [ 1.00000000e+00  3.08209007e-02 -6.88619245e-04  9.98670611e-03\n",
      "  2.13429711e-02  6.31033914e-04 -2.90009918e-02  4.02920865e-02\n",
      " -1.32732521e-02 -3.19375535e-02 -5.37230457e-03]\n",
      "Dollars: [ 1.          0.03317971  0.02975551 -0.0138003   0.02689441  0.00732739\n",
      " -0.04240176  0.0386564  -0.00574672 -0.02969557 -0.02573944]\n"
     ]
    }
   ],
   "source": [
    "import statsmodels\n",
    "print(\"Ticks:\", statsmodels.tsa.stattools.acf(tick_returns, unbiased=False, nlags=10))\n",
    "print(\"Volumes:\", statsmodels.tsa.stattools.acf(volume_returns, unbiased=False, nlags=10))\n",
    "print(\"Dollars:\", statsmodels.tsa.stattools.acf(dollar_returns, unbiased=False, nlags=10))\n"
   ]
  },
  {
   "cell_type": "markdown",
   "metadata": {},
   "source": [
    "## Review\n",
    "\n",
    "Based on acf() output we can conclude that all 3 series don't have autocorrelation. From the result above we conclude that the bars have more or less the same serial correlation."
   ]
  },
  {
   "cell_type": "markdown",
   "metadata": {},
   "source": [
    "# Step 5 Jarque-Bera normality test."
   ]
  },
  {
   "cell_type": "code",
   "execution_count": 33,
   "metadata": {},
   "outputs": [],
   "source": [
    "from scipy import stats"
   ]
  },
  {
   "cell_type": "code",
   "execution_count": 42,
   "metadata": {
    "scrolled": true
   },
   "outputs": [
    {
     "name": "stdout",
     "output_type": "stream",
     "text": [
      "Test Statistics:\n",
      "Tick: (4521.614456877212, 0.0)\n",
      "Volume: (4911.461089251519, 0.0)\n",
      "Dollar: (11916.740046491339, 0.0)\n"
     ]
    }
   ],
   "source": [
    "print ('Test Statistics:')\n",
    "#print 'Time:', '\\t', int(stats.jarque_bera(time_returns)[0])\n",
    "print ('Tick:',stats.jarque_bera(tick_returns))\n",
    "print ('Volume:',stats.jarque_bera(volume_returns))\n",
    "print ('Dollar:',stats.jarque_bera(dollar_returns))\n"
   ]
  },
  {
   "cell_type": "markdown",
   "metadata": {},
   "source": [
    "## Review\n",
    "Jarque-Bera normality test has H0 that the series is normaly distributed. The first value in output is test statistics, the second is p-value. \n",
    "\n",
    "We can conlude that the lowest test statistics has Tick time series, but what even more importent that we reject the H0 of normality for all the series."
   ]
  },
  {
   "cell_type": "code",
   "execution_count": null,
   "metadata": {},
   "outputs": [],
   "source": []
  }
 ],
 "metadata": {
  "kernelspec": {
   "display_name": "Python 3",
   "language": "python",
   "name": "python3"
  },
  "language_info": {
   "codemirror_mode": {
    "name": "ipython",
    "version": 3
   },
   "file_extension": ".py",
   "mimetype": "text/x-python",
   "name": "python",
   "nbconvert_exporter": "python",
   "pygments_lexer": "ipython3",
   "version": "3.6.6"
  }
 },
 "nbformat": 4,
 "nbformat_minor": 2
}
